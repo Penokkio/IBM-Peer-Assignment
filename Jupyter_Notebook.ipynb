{
 "cells": [
  {
   "cell_type": "markdown",
   "metadata": {},
   "source": [
    "<center>\n",
    "    <img src=\"https://cf-courses-data.s3.us.cloud-object-storage.appdomain.cloud/IBMDeveloperSkillsNetwork-DS0105EN-SkillsNetwork/labs/Module2/images/SN_web_lightmode.png\" width=\"300\" alt=\"cognitiveclass.ai logo\">\n",
    "</center>\n"
   ]
  },
  {
   "cell_type": "markdown",
   "metadata": {},
   "source": [
    "#### Add your code below following the instructions given in the course\n"
   ]
  },
  {
   "cell_type": "markdown",
   "metadata": {},
   "source": [
    "# My Jupyter Notebook on IBM Watson Studio"
   ]
  },
  {
   "cell_type": "markdown",
   "metadata": {},
   "source": [
    "**Valerii Ena**\n",
    "---\n",
    "Patent analyst"
   ]
  },
  {
   "cell_type": "markdown",
   "metadata": {},
   "source": [
    "*I am interested in data science, because I am fascinated about learning how big data could help me in my line of work.\n",
    "Learning to analyze and find hidden patterns in structured data (which patent documents have plenty of) would make my expertise even better*"
   ]
  },
  {
   "cell_type": "markdown",
   "metadata": {},
   "source": [
    "***My code below will would perform a simple ariphmetic operation of division (14/7)"
   ]
  },
  {
   "cell_type": "code",
   "execution_count": 4,
   "metadata": {},
   "outputs": [
    {
     "data": {
      "text/plain": [
       "2.0"
      ]
     },
     "execution_count": 4,
     "metadata": {},
     "output_type": "execute_result"
    }
   ],
   "source": [
    "14 / 7"
   ]
  },
  {
   "cell_type": "markdown",
   "metadata": {},
   "source": [
    "There would be 3 examples of what cool features Markdown cells have ():\n",
    "Firstly, the bulleted list below representing hypothetical list of shopping items.\n",
    "* Bread\n",
    "* Wine\n",
    "* Blue Cheese\n",
    "\n",
    "Secondly, a table of this product and price for each of them in Armenian drams.\n",
    "Product | Cost | How tasty is it\n",
    "--- | --- | ---\n",
    "Bread | 800 | Medium\n",
    "Wine | 2300 | Tasty\n",
    "Blue Cheese | 2000 | Very tasty\n",
    "\n",
    "Thirdly, there is some image of this delicious meal after getting your groceries down.\n",
    "![alt text](https://as1.ftcdn.net/v2/jpg/02/53/71/50/1000_F_253715005_CnDfBhlBxvycQK6n53Ih4EyfgPQ0dK7g.jpg \"Some delicious meal\")\n",
    "\n"
   ]
  },
  {
   "cell_type": "code",
   "execution_count": null,
   "metadata": {},
   "outputs": [],
   "source": []
  }
 ],
 "metadata": {
  "kernelspec": {
   "display_name": "Python",
   "language": "python",
   "name": "conda-env-python-py"
  },
  "language_info": {
   "codemirror_mode": {
    "name": "ipython",
    "version": 3
   },
   "file_extension": ".py",
   "mimetype": "text/x-python",
   "name": "python",
   "nbconvert_exporter": "python",
   "pygments_lexer": "ipython3",
   "version": "3.7.12"
  }
 },
 "nbformat": 4,
 "nbformat_minor": 4
}
